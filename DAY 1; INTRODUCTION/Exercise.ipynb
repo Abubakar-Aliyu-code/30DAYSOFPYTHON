{
 "cells": [
  {
   "cell_type": "code",
   "execution_count": null,
   "metadata": {},
   "outputs": [],
   "source": [
    "# INTRODUCTION\n",
    "# Day 1 - 30DaysOfPython Challenge\n",
    "\n",
    "print(2 + 3)   # addition(+)\n",
    "print(3 - 1)   # subtraction(-)\n",
    "print(2 * 3)   # multiplication(*)\n",
    "print(3 / 2)   # division(/)\n",
    "print(3 ** 2)  # exponential(**)\n",
    "print(3 % 2)   # modulus(%)\n",
    "print(3 // 2)  # Floor division operator(//)\n",
    "\n",
    "# CHECKING DATA TYPES\n",
    "\n",
    "print(type(10))                  # int\n",
    "print(type(3.14))                # float\n",
    "print(type(1 + 3j))              # complex\n",
    "print(type('Asabeneh'))          # string\n",
    "print(type([1, 2, 3]))           # list\n",
    "print(type({'name':'Asabeneh'})) # dictionary\n",
    "print(type({9.8, 3.14, 2.7}))    # set\n",
    "print(type((9.8, 3.14, 2.7)))    # tuple"
   ]
  }
 ],
 "metadata": {
  "language_info": {
   "name": "python"
  },
  "orig_nbformat": 4
 },
 "nbformat": 4,
 "nbformat_minor": 2
}
