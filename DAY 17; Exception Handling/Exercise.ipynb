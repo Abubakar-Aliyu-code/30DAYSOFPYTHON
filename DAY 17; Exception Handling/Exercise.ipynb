{
 "cells": [
  {
   "cell_type": "code",
   "execution_count": 65,
   "metadata": {},
   "outputs": [
    {
     "name": "stdout",
     "output_type": "stream",
     "text": [
      "('Finland', 'Sweden', 'Norway', 'Denmark', 'Iceland')\n",
      "Estonia\n",
      "Russia\n"
     ]
    }
   ],
   "source": [
    " # Unpack the first five countries and store them in a variable nordic_countries, store Estonia and Russia in es, \n",
    "# and ru respectively.\n",
    "\n",
    "names = ['Finland', 'Sweden', 'Norway','Denmark','Iceland', 'Estonia','Russia']\n",
    "nordic_countries = names\n",
    "nordic_countries = fi, sw, no, de, ic\n",
    "print (nordic_countries)\n",
    "*nordic_countries, es, ru = names\n",
    "print(es)\n",
    "print(ru)"
   ]
  }
 ],
 "metadata": {
  "kernelspec": {
   "display_name": "base",
   "language": "python",
   "name": "python3"
  },
  "language_info": {
   "codemirror_mode": {
    "name": "ipython",
    "version": 3
   },
   "file_extension": ".py",
   "mimetype": "text/x-python",
   "name": "python",
   "nbconvert_exporter": "python",
   "pygments_lexer": "ipython3",
   "version": "3.9.13"
  },
  "orig_nbformat": 4,
  "vscode": {
   "interpreter": {
    "hash": "dc07d24e2f18896857f0b2a651fe84ba40ce7b297e58d8804a308c8039f752a6"
   }
  }
 },
 "nbformat": 4,
 "nbformat_minor": 2
}
