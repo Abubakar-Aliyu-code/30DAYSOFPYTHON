{
 "cells": [
  {
   "cell_type": "code",
   "execution_count": 17,
   "metadata": {},
   "outputs": [],
   "source": [
    "# Exercises: Level 1\n",
    "# 1. Python has the module called statistics and we can use this module to do all the statistical calculations. \n",
    "# However, to learn how to make function and reuse function let us try to develop a program, which calculates the \n",
    "# measure of central tendency of a sample (mean, median, mode) and measure of variability (range, variance, standard \n",
    "# deviation). In addition to those measures, find the min, max, count, percentile, and frequency distribution of the sample. \n",
    "# You can create a class called Statistics and create all the functions that do statistical calculations as methods for the \n",
    "# Statistics class. Check the output below.\n",
    "\n",
    "class statistics:\n",
    "    def (self, mean, median mode, range, variance, standard deviation, min, max, count, percentile, frequency_distribution):\n",
    "ages = [31, 26, 34, 37, 27, 26, 32, 32, 26, 27, 27, 24, 32, 33, 27, 25, 26, 38, 37, 31, 34, 24, 33, 29, 26]\n",
    "\n",
    "print('Count:', data.count()) # 25\n",
    "print('Sum: ', data.sum()) # 744\n",
    "print('Min: ', data.min()) # 24\n",
    "print('Max: ', data.max()) # 38\n",
    "print('Range: ', data.range()) # 14\n",
    "print('Mean: ', data.mean()) # 30\n",
    "print('Median: ', data.median()) # 29\n",
    "print('Mode: ', data.mode()) # {'mode': 26, 'count': 5}\n",
    "print('Standard Deviation: ', data.std()) # 4.2\n",
    "print('Variance: ', data.var()) # 17.5\n",
    "print('Frequency Distribution: ', data.freq_dist()) \n",
    "\n",
    "\n",
    "# Exercises: Level 2\n",
    "\n",
    "# 1. Create a class called PersonAccount. It has firstname, lastname, incomes, expenses properties and it has total_income, \n",
    "# total_expense, account_info, add_income, add_expense and account_balance methods. Incomes is a set of incomes and its \n",
    "# description. The same goes for expenses.\n",
    "\n",
    "\n",
    "\n"
   ]
  }
 ],
 "metadata": {
  "kernelspec": {
   "display_name": "base",
   "language": "python",
   "name": "python3"
  },
  "language_info": {
   "codemirror_mode": {
    "name": "ipython",
    "version": 3
   },
   "file_extension": ".py",
   "mimetype": "text/x-python",
   "name": "python",
   "nbconvert_exporter": "python",
   "pygments_lexer": "ipython3",
   "version": "3.9.13"
  },
  "orig_nbformat": 4
 },
 "nbformat": 4,
 "nbformat_minor": 2
}
