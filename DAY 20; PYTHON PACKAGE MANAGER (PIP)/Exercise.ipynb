{
 "cells": [
  {
   "cell_type": "code",
   "execution_count": 18,
   "metadata": {},
   "outputs": [
    {
     "name": "stdout",
     "output_type": "stream",
     "text": [
      "[('the', 763), ('I', 575), ('and', 550), ('to', 532), ('of', 487), ('a', 453), ('in', 341), ('is', 334), ('you', 318), ('my', 310)]\n"
     ]
    }
   ],
   "source": [
    "\n",
    "# 1. Read this url and find the 10 most frequent words.\n",
    "import requests\n",
    "from bs4 import BeautifulSoup as egusi_soup\n",
    "from collections import Counter\n",
    "from string import punctuation\n",
    "\n",
    "romeo_and_juliet = requests.get('http://www.gutenberg.org/files/1112/1112.txt')\n",
    "\n",
    "soup = egusi_soup(romeo_and_juliet.content)\n",
    "\n",
    "text = (''.join(s.findAll(text=True))for s in soup.findAll('p'))\n",
    "\n",
    "c = Counter((x.rstrip(punctuation) for y in text for x in y.split()))\n",
    "print (c.most_common(10)) # prints most common words staring at most common.\n",
    "\n",
    "\n",
    "\n",
    "\n",
    "\n",
    "\n",
    "# 2. Read the cats API and find :\n",
    "# i.  The min, max, mean, median, standard deviation of cats' weight in metric units.\n",
    "# ii.  The min, max, mean, median, standard deviation of cats' lifespan in years.\n",
    "# iii. Create a frequency table of country and breed of cats\n",
    "\n",
    "cats_api = 'https://api.thecatapi.com/v1/breeds' \n",
    "response = requests.get(cats_api) # opening a network and fetching a data\n",
    "\n",
    "#The min, max, mean, median, standard deviation of cats' weight in metric units.\n",
    "cat_weight = min(response(\"cats' weight\"))\n",
    "\n",
    "    \n",
    "# 3. Read the countries API and find\n",
    "#  i. The 10 largest countries\n",
    "# ii. The 10 most spoken languages\n",
    "# iii. The total number of languages in the countries API\n",
    "\n",
    "# 4. UCI is one of the most common places to get data sets for data science and machine learning. \n",
    "# Read the content of UCL (https://archive.ics.uci.edu/ml/datasets.php). \n",
    "# Without additional libraries it will be difficult, so you may try it with BeautifulSoup4\n",
    "\n",
    "\n"
   ]
  }
 ],
 "metadata": {
  "kernelspec": {
   "display_name": "base",
   "language": "python",
   "name": "python3"
  },
  "language_info": {
   "name": "python",
   "version": "3.9.13"
  },
  "orig_nbformat": 4,
  "vscode": {
   "interpreter": {
    "hash": "dc07d24e2f18896857f0b2a651fe84ba40ce7b297e58d8804a308c8039f752a6"
   }
  }
 },
 "nbformat": 4,
 "nbformat_minor": 2
}
