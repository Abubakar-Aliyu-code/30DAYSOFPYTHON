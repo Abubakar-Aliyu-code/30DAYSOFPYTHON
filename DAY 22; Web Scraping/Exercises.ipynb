{
 "cells": [
  {
   "cell_type": "code",
   "execution_count": 22,
   "metadata": {},
   "outputs": [
    {
     "ename": "SyntaxError",
     "evalue": "EOL while scanning string literal (1510303166.py, line 30)",
     "output_type": "error",
     "traceback": [
      "\u001b[1;36m  Cell \u001b[1;32mIn[22], line 30\u001b[1;36m\u001b[0m\n\u001b[1;33m    extract = scrape.find('table', attrs = {'class': 'table cellpadding = \"3\"})\u001b[0m\n\u001b[1;37m                                                                               ^\u001b[0m\n\u001b[1;31mSyntaxError\u001b[0m\u001b[1;31m:\u001b[0m EOL while scanning string literal\n"
     ]
    }
   ],
   "source": [
    "# Exercises:\n",
    "\n",
    "# 1. Scrape the following website and store the data as json file\n",
    "import json\n",
    "import requests\n",
    "from bs4 import BeautifulSoup as draw_soup\n",
    "url = 'http://www.bu.edu/president/boston-university-facts-stats/'\n",
    "response = requests.get(url)\n",
    "soup = draw_soup(response.content, 'html.parser')\n",
    "#print(soup.title.get_text())\n",
    "#data = soup.find_all('p')\n",
    "#for i in data:\n",
    "    #print(i.text)\n",
    "# Storing the data as json file\n",
    "#with open('data.json', 'w') as d:\n",
    "    #json.dump('fp', d, indent = 2)\n",
    "    #print(data)\n",
    "#print(soup.title)\n",
    "\n",
    "\n",
    "\n",
    "\n",
    "\n",
    "# 2. Extract the table in this url (https://archive.ics.uci.edu/ml/datasets.php) and change it to a json file\n",
    "webpage = 'https://archive.ics.uci.edu/ml/datasets.php'\n",
    "call = requests.get('https://archive.ics.uci.edu/ml/datasets.php')\n",
    "scrape = draw_soup(call.content, 'html.parser')\n",
    "print(scrape.title)\n",
    "\n",
    "extract = scrape.find('table', attrs = {'class': 'table cellpadding = \"3\"})\n",
    "extract_data = extract.find_all('tr')\n",
    "# 3. Scrape the presidents table and store the data as json.\n",
    "# (https://en.wikipedia.org/wiki/List_of_presidents_of_the_United_States). \n",
    "# The table is not very structured and the scrapping may take very long time.\n"
   ]
  },
  {
   "cell_type": "code",
   "execution_count": null,
   "metadata": {},
   "outputs": [],
   "source": []
  }
 ],
 "metadata": {
  "kernelspec": {
   "display_name": "base",
   "language": "python",
   "name": "python3"
  },
  "language_info": {
   "codemirror_mode": {
    "name": "ipython",
    "version": 3
   },
   "file_extension": ".py",
   "mimetype": "text/x-python",
   "name": "python",
   "nbconvert_exporter": "python",
   "pygments_lexer": "ipython3",
   "version": "3.9.13"
  },
  "orig_nbformat": 4
 },
 "nbformat": 4,
 "nbformat_minor": 2
}
