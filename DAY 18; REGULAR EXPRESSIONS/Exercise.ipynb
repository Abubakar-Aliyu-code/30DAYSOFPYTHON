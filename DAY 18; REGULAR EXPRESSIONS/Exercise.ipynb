{
 "cells": [
  {
   "cell_type": "code",
   "execution_count": 58,
   "metadata": {},
   "outputs": [
    {
     "name": "stdout",
     "output_type": "stream",
     "text": [
      "['I', 'love', 'teaching', 'If', 'you', 'do', 'not', 'love', 'teaching', 'what', 'else', 'can', 'you', 'love', 'I', 'love', 'Python', 'if', 'you', 'do', 'not', 'love', 'something', 'which', 'can', 'give', 'you', 'all', 'the', 'capabilities', 'to', 'develop', 'an', 'application', 'what', 'else', 'can', 'you', 'love']\n"
     ]
    }
   ],
   "source": [
    "#Exercises: Level 1\n",
    "# 1. What is the most frequent word in the following paragraph?\n",
    "\n",
    "paragraph = 'I love teaching. If you do not love teaching what else can you love. I love Python  if you do not love something which can give you all the capabilities to develop an application what else can you love.'\n",
    "\n",
    "#matches = re.search('not', paragraph)\n",
    "matches = re.findall(r'\\w+', paragraph)\n",
    "print(matches)\n",
    "\n",
    "\n",
    "# 2. The position of some particles on the horizontal x-axis are -12, -4, -3 and -1 in the negative direction, 0 at origin, 4 and 8 in the positive direction. Extract these numbers from this whole text and find the distance between the two furthest particles.\n",
    "\n",
    "points = ['-1', '2', '-4', '-3', '-1', '0', '4', '8']\n",
    "sorted_points =  [-4, -3, -1, -1, 0, 2, 4, 8]\n",
    "distance = 8 -(-4) # 12\n",
    "\n",
    "# Exercises: Level 2\n",
    "# 1. Write a pattern which identifies if a string is a valid python variable\n",
    "\n",
    "    is_valid_variable('first_name') # True\n",
    "    is_valid_variable('first-name') # False\n",
    "    is_valid_variable('1first_name') # False\n",
    "    is_valid_variable('firstname') # True\n",
    "\n",
    "\"validVariable\".isidentifier()\n",
    "#True\n",
    "\"992variable\".isidentifier()\n",
    "#False\n",
    "\n",
    "\n",
    "valid = re.match(r\"[_a-z]\\w*$\", paragraph,flags=re.I)\n",
    "#print(valid)\n",
    "# Exercises: Level 3\n",
    "# 1. Clean the following text. After cleaning, count three most frequent words in the string.\n",
    "\n",
    "sentence = '''%I $am@% a %tea@cher%, &and& I lo%#ve %tea@ching%;. There $is nothing; &as& mo@re rewarding as educa@ting &and& @emp%o@wering peo@ple. ;I found tea@ching m%o@re interesting tha@n any other %jo@bs. %Do@es thi%s mo@tivate yo@u to be a tea@cher!?'''\n",
    "\n",
    "\n"
   ]
  }
 ],
 "metadata": {
  "kernelspec": {
   "display_name": "base",
   "language": "python",
   "name": "python3"
  },
  "language_info": {
   "codemirror_mode": {
    "name": "ipython",
    "version": 3
   },
   "file_extension": ".py",
   "mimetype": "text/x-python",
   "name": "python",
   "nbconvert_exporter": "python",
   "pygments_lexer": "ipython3",
   "version": "3.9.13"
  },
  "orig_nbformat": 4,
  "vscode": {
   "interpreter": {
    "hash": "dc07d24e2f18896857f0b2a651fe84ba40ce7b297e58d8804a308c8039f752a6"
   }
  }
 },
 "nbformat": 4,
 "nbformat_minor": 2
}
