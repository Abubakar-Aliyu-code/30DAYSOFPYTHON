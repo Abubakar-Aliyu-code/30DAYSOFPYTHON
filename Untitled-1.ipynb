{
 "cells": [
  {
   "cell_type": "code",
   "execution_count": 83,
   "metadata": {},
   "outputs": [
    {
     "name": "stdout",
     "output_type": "stream",
     "text": [
      "\n",
      "Number of lines: 83\n",
      "\n",
      "Number of words: 8\n"
     ]
    }
   ],
   "source": [
    "with open (r\"C:\\Users\\HP\\Desktop\\30 DAYS OF PYTHON\\DATA\\Michelle_Obama_Speech.txt\") as m:\n",
    " # Counting the number of lines\n",
    "    for count, line in enumerate(m):\n",
    "        count += 1\n",
    "    print('\\nNumber of lines:', count)\n",
    "\n",
    "    # Counting the number of words\n",
    "    for word in m:\n",
    "        word = m.read().split()\n",
    "    print('\\nNumber of words:', len(word))\n"
   ]
  },
  {
   "cell_type": "code",
   "execution_count": null,
   "metadata": {},
   "outputs": [],
   "source": []
  }
 ],
 "metadata": {
  "kernelspec": {
   "display_name": "base",
   "language": "python",
   "name": "python3"
  },
  "language_info": {
   "codemirror_mode": {
    "name": "ipython",
    "version": 3
   },
   "file_extension": ".py",
   "mimetype": "text/x-python",
   "name": "python",
   "nbconvert_exporter": "python",
   "pygments_lexer": "ipython3",
   "version": "3.9.13"
  },
  "orig_nbformat": 4,
  "vscode": {
   "interpreter": {
    "hash": "dc07d24e2f18896857f0b2a651fe84ba40ce7b297e58d8804a308c8039f752a6"
   }
  }
 },
 "nbformat": 4,
 "nbformat_minor": 2
}
