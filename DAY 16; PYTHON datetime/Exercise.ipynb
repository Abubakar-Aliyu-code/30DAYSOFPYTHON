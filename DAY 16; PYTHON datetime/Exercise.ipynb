{
 "cells": [
  {
   "cell_type": "code",
   "execution_count": 65,
   "metadata": {},
   "outputs": [
    {
     "name": "stdout",
     "output_type": "stream",
     "text": [
      "Timestamp: 1676910340.779137\n",
      "Current day: 20 2 2023 17 25\n",
      "Current time: 02/20/2023, 17:25:40\n",
      "Today's date: 2019-12-05 00:00:00\n",
      "New year (2024) is coming in: 314 days, 5:26:00\n",
      "The time difference between 1 January 1970 and now is: 19408 days, 18:39:00\n"
     ]
    }
   ],
   "source": [
    "#1. Get the current day, month, year, hour, minute and timestamp from datetime module\n",
    "from datetime import datetime\n",
    "\n",
    "day = now.day\n",
    "week = now.weekday()\n",
    "month = now.month\n",
    "year = now.year\n",
    "hour = now.hour\n",
    "minute = now.minute\n",
    "second = now.second\n",
    "timestamp = now.timestamp()\n",
    "print('Timestamp:', timestamp)\n",
    "print('Current day:', day, month, year, hour, minute)\n",
    "\n",
    "# 2. Format the current date using this format: \"%m/%d/%Y, %H:%M:%S\")\n",
    "current_date = now.strftime(\"%m/%d/%Y, %H:%M:%S\")\n",
    "print('Current time:', current_date)\n",
    "\n",
    "# 3. Today is 5 December, 2019. Change this time string to time.\n",
    "\n",
    "time_string = '5 December, 2019'\n",
    "today_date = datetime.strptime(time_string, \"%d %B, %Y\")\n",
    "print(\"Today's date:\", today_date)\n",
    "\n",
    "\n",
    "# 4. Calculate the time difference between now and new year.\n",
    "today = datetime (2023, 2, 20, 18, 34,  0)\n",
    "next_year = datetime (2024, 1, 1, 0, 0, 0)\n",
    "new_year = next_year - today\n",
    "print('New year (2024) is coming in:', new_year)\n",
    "\n",
    "\n",
    "\n",
    "# 5. Calculate the time difference between 1 January 1970 and now.\n",
    "seventies = datetime (1970, 1, 1, 0, 0,  0)\n",
    "this_year = datetime (2023, 2, 20, 18, 39, 0)\n",
    "new_year = this_year - seventies\n",
    "print('The time difference between 1 January 1970 and now is:', new_year)\n",
    "\n",
    "# 6. Think, what can you use the datetime module for? Examples:\n",
    "\n",
    "    #Time series analysis\n",
    "    #To get a timestamp of any activities in an application\n",
    "    #Adding posts on a blog\n",
    "\n"
   ]
  }
 ],
 "metadata": {
  "kernelspec": {
   "display_name": "base",
   "language": "python",
   "name": "python3"
  },
  "language_info": {
   "codemirror_mode": {
    "name": "ipython",
    "version": 3
   },
   "file_extension": ".py",
   "mimetype": "text/x-python",
   "name": "python",
   "nbconvert_exporter": "python",
   "pygments_lexer": "ipython3",
   "version": "3.9.13"
  },
  "orig_nbformat": 4,
  "vscode": {
   "interpreter": {
    "hash": "dc07d24e2f18896857f0b2a651fe84ba40ce7b297e58d8804a308c8039f752a6"
   }
  }
 },
 "nbformat": 4,
 "nbformat_minor": 2
}
