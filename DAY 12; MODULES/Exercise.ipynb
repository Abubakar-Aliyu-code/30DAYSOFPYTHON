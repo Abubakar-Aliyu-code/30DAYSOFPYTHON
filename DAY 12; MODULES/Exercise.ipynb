{
 "cells": [
  {
   "cell_type": "code",
   "execution_count": null,
   "metadata": {},
   "outputs": [],
   "source": [
    "import random\n",
    "import string\n",
    "\n",
    "#Exercises: Level 1\n",
    "#1. Write a function which generates a six digit/character random_user_id.\n",
    "def random_user_id (size, chars=string.ascii_lowercase + string.digits):\n",
    "    return ''.join(random.choice(chars) for x in range(size))\n",
    "\n",
    "print (random_user_id (6, \"abuali001\"))\n",
    "\n",
    "\n",
    "#2. Modify the previous task.Declare a function named user_id_gen_by_user. \n",
    "# It doesn’t take any parameters but it takes two inputs using input(). \n",
    "# One of the inputs is the number of characters and the second input is the number of IDs which are supposed to be generated.\n",
    "\n",
    "#3. Write a function named rgb_color_gen. It will generate rgb colors (3 values ranging from 0 to 255 each).\n",
    "def rgb_color_gen():\n",
    "\n",
    "#Exercises: Level 2\n",
    "\n",
    "#1. Write a function list_of_hexa_colors which returns any number of hexadecimal colors in\n",
    "#  an array (six hexadecimal numbers written after #. Hexadecimal numeral system is made out of 16 symbols, \n",
    "# 0-9 and first 6 letters of the alphabet, a-f. Check the task 6 for output examples).\n",
    "def list_of_hexa_colors():\n",
    "#2. Write a function list_of_rgb_colors which returns any number of RGB colors in an array.\n",
    "def list_of_rgb_colors():\n",
    "#3. Write a function generate_colors which can generate any number of hexa or rgb colors.\n",
    "def generate_colors ():\n",
    "\n",
    "#Exercises: Level 3\n",
    "#1. Call your function shuffle_list, it takes a list as a parameter and it returns a shuffled list\n",
    "def shuffle_list():\n",
    "#2. Write a function which returns an array of seven random numbers in a range of 0-9. All the numbers must be unique.\n",
    "\n"
   ]
  }
 ],
 "metadata": {
  "language_info": {
   "name": "python"
  },
  "orig_nbformat": 4
 },
 "nbformat": 4,
 "nbformat_minor": 2
}
