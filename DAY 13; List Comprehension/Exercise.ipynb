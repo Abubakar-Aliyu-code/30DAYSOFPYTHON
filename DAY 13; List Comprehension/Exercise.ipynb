{
 "cells": [
  {
   "cell_type": "code",
   "execution_count": null,
   "metadata": {},
   "outputs": [],
   "source": [
    "#1. Filter only negative and zero in the list using list comprehension\n",
    "numbers = [-4, -3, -2, -1, 0, 2, 4, 6]\n",
    "negative_and_zero = [i for i in numbers if i<=0]\n",
    "\n",
    "print(negative_and_zero)\n",
    "\n",
    "#2. Flatten the following list of lists of lists to a one dimensional list:\n",
    "list_of_lists =[[[1, 2, 3]], [[4, 5, 6]], [[7, 8, 9]]]\n",
    "list_of_lists =[[[1, 2, 3]], [[4, 5, 6]], [[7, 8, 9]]]\n",
    "dimensional_list = [number for row in [number for row in list_of_lists for number in row] for number in row]\n",
    "print(dimensional_list)\n",
    "\n",
    "#3. Using list comprehension create the following list of tuples:\n",
    "#[(0, 1, 0, 0, 0, 0, 0),\n",
    "#(1, 1, 1, 1, 1, 1, 1),\n",
    "#(2, 1, 2, 4, 8, 16, 32),\n",
    "#(3, 1, 3, 9, 27, 81, 243),\n",
    "#(4, 1, 4, 16, 64, 256, 1024),\n",
    "#(5, 1, 5, 25, 125, 625, 3125),\n",
    "#(6, 1, 6, 36, 216, 1296, 7776),\n",
    "#(7, 1, 7, 49, 343, 2401, 16807),\n",
    "#(8, 1, 8, 64, 512, 4096, 32768),\n",
    "#(9, 1, 9, 81, 729, 6561, 59049),\n",
    "#(10, 1, 10, 100, 1000, 10000, 100000)]\n",
    "\n",
    "\n",
    "#4. Flatten the following list to a new list:\n",
    "\n",
    "countries = [[('Finland', 'Helsinki')], [('Sweden', 'Stockholm')], [('Norway', 'Oslo')]]\n",
    "new_list =[new for country in countries for new in country]\n",
    "print(new_list)\n",
    "\n",
    "#5. Change the following list to a list of dictionaries:\n",
    "\n",
    "countries = [[('Finland', 'Helsinki')], [('Sweden', 'Stockholm')], [('Norway', 'Oslo')]]\n",
    "\n",
    "#6. Change the following list of lists to a list of concatenated strings:\n",
    "\n",
    "names = [[('Asabeneh', 'Yetayeh')], [('David', 'Smith')], [('Donald', 'Trump')], [('Bill', 'Gates')]]\n",
    "\n",
    "#7. Write a lambda function which can solve a slope or y-intercept of linear functions.\n"
   ]
  }
 ],
 "metadata": {
  "language_info": {
   "name": "python"
  },
  "orig_nbformat": 4
 },
 "nbformat": 4,
 "nbformat_minor": 2
}
