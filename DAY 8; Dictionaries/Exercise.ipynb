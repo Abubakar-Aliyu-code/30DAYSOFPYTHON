{
 "cells": [
  {
   "cell_type": "code",
   "execution_count": null,
   "metadata": {},
   "outputs": [],
   "source": [
    "#Ex. 1 Create an empty dictionary called dog\n",
    "dog = {}\n",
    "\n",
    "#Ex. 2 Add name, color, breed, legs, age to the dog dictionary\n",
    "dog['name'] = 'bobby'\n",
    "dog['color'] = 'white'\n",
    "dog['breed'] = 'chihuahua'\n",
    "dog['legs'] = 'bow =-legged'\n",
    "dog['age'] = '1'\n",
    "print(\"Dog's dictionary:\", dog, '\\n')\n",
    "\n",
    "#Ex. 3 Create a student dictionary and add first_name, last_name, gender, age, marital status, \n",
    "# skills, country, city and address as keys for the dictionary\n",
    "student = {'first_name': 'Abubakar', 'last_name':'maikobi', 'gender': 'male', \n",
    "'age':'26', 'marital_status': 'single', 'skills':['python','SQL','MongoDB'], 'country': 'nigeria', 'city': 'Bauchi', \n",
    "'address':{\n",
    "    'street':'kobi street',\n",
    "    'zipcode': '900108'\n",
    "    } \n",
    "}\n",
    "print(\"Student's dictionary:\", student, '\\n')\n",
    "\n",
    "#Ex. 4 Get the length of the student dictionary\n",
    "print(\"The length of the student's dictionary is:\", len(student),'\\n')\n",
    "\n",
    "#Ex. 5 Get the value of skills and check the data type, it should be a list\n",
    "print(\"Here are the student's skills:\", student.get('skills'), '\\n')\n",
    "print(\"Here is the data type of the key 'skills:\", type('skills'), '\\n')\n",
    "\n",
    "#Ex. 6 Modify the skills values by adding one or two skills\n",
    "student['skills'] = ['HTML', 'R']\n",
    "\n",
    "#Ex. 7 Get the dictionary keys as a list\n",
    "print(\"Here is the list of the student's dictionary keys as list:\", list(student.keys()), '\\n')\n",
    "\n",
    "#Ex. 8 Get the dictionary values as a list\n",
    "print(\"Here is the list of the student's dictionary values as list:\", list(student.values()), '\\n')\n",
    "\n",
    "#Ex. 9 Change the dictionary to a list of tuples using items() method\n",
    "print(student.items())\n",
    "\n",
    "#Ex. 10 Delete one of the items in the dictionary\n",
    "student.popitem()\n",
    "\n",
    "#Ex. 11 Delete one of the dictionaries\n",
    "del dog\n"
   ]
  }
 ],
 "metadata": {
  "language_info": {
   "name": "python"
  },
  "orig_nbformat": 4
 },
 "nbformat": 4,
 "nbformat_minor": 2
}
